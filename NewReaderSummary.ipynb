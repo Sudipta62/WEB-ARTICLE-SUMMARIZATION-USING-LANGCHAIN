{
 "cells": [
  {
   "cell_type": "code",
   "execution_count": null,
   "id": "6ce59958-0ea0-47fa-8b5a-d85523628b74",
   "metadata": {},
   "outputs": [
    {
     "name": "stdout",
     "output_type": "stream",
     "text": [
      " * Serving Flask app '__main__'\n",
      " * Debug mode: off\n"
     ]
    },
    {
     "name": "stderr",
     "output_type": "stream",
     "text": [
      "[nltk_data] Downloading package punkt to\n",
      "[nltk_data]     C:\\Users\\USER\\AppData\\Roaming\\nltk_data...\n",
      "[nltk_data]   Package punkt is already up-to-date!\n",
      "WARNING: This is a development server. Do not use it in a production deployment. Use a production WSGI server instead.\n",
      " * Running on http://127.0.0.1:5000\n",
      "Press CTRL+C to quit\n",
      "127.0.0.1 - - [31/Mar/2024 23:09:30] \"GET / HTTP/1.1\" 200 -\n",
      "127.0.0.1 - - [31/Mar/2024 23:09:41] \"POST /summary HTTP/1.1\" 200 -\n",
      "127.0.0.1 - - [31/Mar/2024 23:10:22] \"POST /summary HTTP/1.1\" 200 -\n",
      "127.0.0.1 - - [31/Mar/2024 23:10:48] \"POST /summary HTTP/1.1\" 200 -\n",
      "127.0.0.1 - - [31/Mar/2024 23:12:06] \"POST /summary HTTP/1.1\" 200 -\n",
      "127.0.0.1 - - [31/Mar/2024 23:13:13] \"POST /summary HTTP/1.1\" 200 -\n",
      "127.0.0.1 - - [31/Mar/2024 23:15:23] \"POST /summary HTTP/1.1\" 200 -\n"
     ]
    }
   ],
   "source": [
    "from flask import Flask, render_template, request, jsonify\n",
    "from langchain_community.document_loaders import NewsURLLoader\n",
    "import nltk\n",
    "\n",
    "app = Flask(__name__)\n",
    "\n",
    "nltk.download('punkt')\n",
    "\n",
    "@app.route('/')\n",
    "def index():\n",
    "    return render_template('index.html')\n",
    "\n",
    "@app.route('/summary', methods=['POST'])\n",
    "def get_summary():\n",
    "    url = request.form['url']\n",
    "    \n",
    "    # Attempt to load data from the provided URL\n",
    "    try:\n",
    "        loader = NewsURLLoader(urls=[url], nlp=True)\n",
    "        data = loader.load()\n",
    "    except Exception as e:\n",
    "        app.logger.error(f\"Error loading data from URL '{url}': {str(e)}\")\n",
    "        return jsonify({'error': f'Error loading data from URL: {str(e)}'})\n",
    "\n",
    "    # Check if data exists and contains metadata\n",
    "    if data and data[0] and 'summary' in data[0].metadata:\n",
    "        # Retrieve the summary from the metadata\n",
    "        summary = data[0].metadata[\"summary\"]\n",
    "        # Return the summary in HTML format\n",
    "        return jsonify({'summary': f'<div>{summary}</div>'})\n",
    "    else:\n",
    "        app.logger.error(f\"No summary found for URL '{url}'\")\n",
    "        return jsonify({'error': 'Summary not found'})\n",
    "\n",
    "if __name__ == '__main__':\n",
    "    app.run()\n"
   ]
  },
  {
   "cell_type": "code",
   "execution_count": null,
   "id": "148b20e9-6a4d-4655-ac61-3c06549086c5",
   "metadata": {},
   "outputs": [],
   "source": []
  },
  {
   "cell_type": "code",
   "execution_count": null,
   "id": "d52d82a8-b74b-4ae9-b3e6-c757c4424149",
   "metadata": {},
   "outputs": [],
   "source": []
  }
 ],
 "metadata": {
  "kernelspec": {
   "display_name": "Python 3 (ipykernel)",
   "language": "python",
   "name": "python3"
  },
  "language_info": {
   "codemirror_mode": {
    "name": "ipython",
    "version": 3
   },
   "file_extension": ".py",
   "mimetype": "text/x-python",
   "name": "python",
   "nbconvert_exporter": "python",
   "pygments_lexer": "ipython3",
   "version": "3.12.2"
  }
 },
 "nbformat": 4,
 "nbformat_minor": 5
}
